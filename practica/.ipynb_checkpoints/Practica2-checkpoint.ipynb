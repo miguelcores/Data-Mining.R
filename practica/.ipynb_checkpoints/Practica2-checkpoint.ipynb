{
 "cells": [
  {
   "cell_type": "markdown",
   "metadata": {},
   "source": [
    "# Introducción\n",
    "\n",
    "En esta práctica vamos a repasar diferentes tests estadísticos. Para ello nos ayudamos de los datos publicados por BCSC:\n",
    "*NCI-funded Breast Cancer Surveillance Consortium (P01 CA154292 and HHSN261201100031C). Downloaded mm/dd/yyyy from the Breast Cancer Surveillance Consortium Web site - http://www.bcsc-research.org/data/index.html.*\n",
    "\n",
    "Concretamente a través de este enlace:\n",
    "http://www.bcsc-research.org/data/rf/app2/DownloadRequest.aspx\n",
    "\n",
    "\n",
    "El fichero *BCSC_risk_factors_summarized.csv* descargado lo teneis en la carpeta *data*.\n",
    "\n",
    "Ese fichero es un CSV, la descripción de cada columna se puede ver en la siguiente tabla:"
   ]
  },
  {
   "cell_type": "markdown",
   "metadata": {},
   "source": [
    "\n",
    "| Nombre de variable | Descripción | Código | \n",
    "|-|-|-|\n",
    "| year | Año de la observación | Numérico, 2000-2009 |\n",
    "| year_group_5_years| Edad (años) en grupos de 5 años |  1 = Edad 18-29;  2 = Edad 30-34; 3 = Edad 35-39; 4 = Edad 40-44; 5 = Edad 45-49; 6 = Edad 50-54; 7 = Edad 55-59; 8 = Edad 60-64; 9 = Edad 65-69; 10 = Edad 70-74; 11 = Edad 75-79; 12 = Edad 80-84; 13 = Edad ≥85 |\n",
    "| race_eth | Grupo étnico | 1 = Non-Hispanic white; 2 = Non-Hispanic black; 3 = Asian/Pacific Islander; 4 = Native American; 5 = Hispanic; 6 = Other/mixed; 9 = Desconocido |\n",
    "| first_degree_hx | Historial de cancer de un familiar de primer grado | 0 = No; 1 = Sí; 9 = Desconocido |\n",
    "| Edad_menarche | Edad (años) at menarche |0 = Edad ≥14; 1 = Edad 12-13; 2 = Edad <12; 9 = Desconocido\n",
    "| Edad_first_birth | Edad (años) at first birth | 0 = Edad < 20; 1 = Edad 20-24; 2 = Edad 25-29; 3 = Edad ≥30; 4 = Nulliparous; 9 = Desconocido |\n",
    "| BIRADS_breast_density | BI-RADS densidad del cancer de pecho| 1 = Almost entirely fat; 2 =Scattered fibroglandular densities; 3 = Heterogeneously dense; 4 = Extremely dense; 9 = Desconocido |\n",
    "| current_hrt | Uso de terapia de hormonas de reemplazo | 0 = No; 1 = Sí; 9 = Desconocido |\n",
    "| menopaus | Menopausal status | 1 = Pre- or peri-menopausal; 2 = Post-menopausal; 3 = Surgical menopause; 9 = Desconocido |\n",
    "| bmi_group |  Body mass index | 1 = 10-24.99; 2 = 25-29.99; 3 = 30-34.99; 4 = 35 or more; 9 = Desconocido |\n",
    "| biophx | Biopsia previa o aspiración | 0 = No; 1 = Sí; 9 = Desconocido |\n",
    "| breast_cancer_history | Cancer diagnosticado con anterioridad | 0 = No; 1 = Sí; 9 = Desconocido |\n",
    "| count | Número de ocurrencias de estas covariables | Numérico|\n",
    "\n",
    "\n"
   ]
  },
  {
   "cell_type": "markdown",
   "metadata": {},
   "source": [
    "Leemos los datos del csv y los adaptamos. Pasos a seguir:\n",
    "1. Replicamos las filas indicadas por la columna *count*\n",
    "2. Los datos son muy grandes, para agilizar la práctica nos quedamos con 5000 muestras elegidas con muestreo aleatorio simple. El resto se puede descartar.\n",
    "3. Se adapta el resto"
   ]
  },
  {
   "cell_type": "code",
   "execution_count": 1,
   "metadata": {},
   "outputs": [
    {
     "data": {
      "text/html": [
       "<table>\n",
       "<thead><tr><th></th><th scope=col>year</th><th scope=col>age_group_5_years</th><th scope=col>race_eth</th><th scope=col>first_degree_hx</th><th scope=col>age_menarche</th><th scope=col>age_first_birth</th><th scope=col>BIRADS_breast_density</th><th scope=col>current_hrt</th><th scope=col>menopaus</th><th scope=col>bmi_group</th><th scope=col>biophx</th><th scope=col>breast_cancer_history</th></tr></thead>\n",
       "<tbody>\n",
       "\t<tr><th scope=row>1</th><td>2000</td><td>1   </td><td>1   </td><td>0   </td><td>0   </td><td>0   </td><td>1   </td><td>0   </td><td>1   </td><td>3   </td><td>0   </td><td>0   </td></tr>\n",
       "\t<tr><th scope=row>2</th><td>2000</td><td>1   </td><td>1   </td><td>0   </td><td>0   </td><td>1   </td><td>3   </td><td>0   </td><td>1   </td><td>2   </td><td>0   </td><td>0   </td></tr>\n",
       "\t<tr><th scope=row>3</th><td>2000</td><td>1   </td><td>1   </td><td>0   </td><td>0   </td><td>1   </td><td>4   </td><td>0   </td><td>1   </td><td>1   </td><td>0   </td><td>0   </td></tr>\n",
       "\t<tr><th scope=row>3.1</th><td>2000</td><td>1   </td><td>1   </td><td>0   </td><td>0   </td><td>1   </td><td>4   </td><td>0   </td><td>1   </td><td>1   </td><td>0   </td><td>0   </td></tr>\n",
       "\t<tr><th scope=row>4</th><td>2000</td><td>1   </td><td>1   </td><td>0   </td><td>0   </td><td>2   </td><td>3   </td><td>0   </td><td>1   </td><td>1   </td><td>0   </td><td>0   </td></tr>\n",
       "\t<tr><th scope=row>5</th><td>2000</td><td>1   </td><td>1   </td><td>0   </td><td>0   </td><td>2   </td><td>3   </td><td>0   </td><td>1   </td><td>1   </td><td>1   </td><td>9   </td></tr>\n",
       "</tbody>\n",
       "</table>\n"
      ],
      "text/latex": [
       "\\begin{tabular}{r|llllllllllll}\n",
       "  & year & age\\_group\\_5\\_years & race\\_eth & first\\_degree\\_hx & age\\_menarche & age\\_first\\_birth & BIRADS\\_breast\\_density & current\\_hrt & menopaus & bmi\\_group & biophx & breast\\_cancer\\_history\\\\\n",
       "\\hline\n",
       "\t1 & 2000 & 1    & 1    & 0    & 0    & 0    & 1    & 0    & 1    & 3    & 0    & 0   \\\\\n",
       "\t2 & 2000 & 1    & 1    & 0    & 0    & 1    & 3    & 0    & 1    & 2    & 0    & 0   \\\\\n",
       "\t3 & 2000 & 1    & 1    & 0    & 0    & 1    & 4    & 0    & 1    & 1    & 0    & 0   \\\\\n",
       "\t3.1 & 2000 & 1    & 1    & 0    & 0    & 1    & 4    & 0    & 1    & 1    & 0    & 0   \\\\\n",
       "\t4 & 2000 & 1    & 1    & 0    & 0    & 2    & 3    & 0    & 1    & 1    & 0    & 0   \\\\\n",
       "\t5 & 2000 & 1    & 1    & 0    & 0    & 2    & 3    & 0    & 1    & 1    & 1    & 9   \\\\\n",
       "\\end{tabular}\n"
      ],
      "text/markdown": [
       "\n",
       "| <!--/--> | year | age_group_5_years | race_eth | first_degree_hx | age_menarche | age_first_birth | BIRADS_breast_density | current_hrt | menopaus | bmi_group | biophx | breast_cancer_history | \n",
       "|---|---|---|---|---|---|\n",
       "| 1 | 2000 | 1    | 1    | 0    | 0    | 0    | 1    | 0    | 1    | 3    | 0    | 0    | \n",
       "| 2 | 2000 | 1    | 1    | 0    | 0    | 1    | 3    | 0    | 1    | 2    | 0    | 0    | \n",
       "| 3 | 2000 | 1    | 1    | 0    | 0    | 1    | 4    | 0    | 1    | 1    | 0    | 0    | \n",
       "| 3.1 | 2000 | 1    | 1    | 0    | 0    | 1    | 4    | 0    | 1    | 1    | 0    | 0    | \n",
       "| 4 | 2000 | 1    | 1    | 0    | 0    | 2    | 3    | 0    | 1    | 1    | 0    | 0    | \n",
       "| 5 | 2000 | 1    | 1    | 0    | 0    | 2    | 3    | 0    | 1    | 1    | 1    | 9    | \n",
       "\n",
       "\n"
      ],
      "text/plain": [
       "    year age_group_5_years race_eth first_degree_hx age_menarche\n",
       "1   2000 1                 1        0               0           \n",
       "2   2000 1                 1        0               0           \n",
       "3   2000 1                 1        0               0           \n",
       "3.1 2000 1                 1        0               0           \n",
       "4   2000 1                 1        0               0           \n",
       "5   2000 1                 1        0               0           \n",
       "    age_first_birth BIRADS_breast_density current_hrt menopaus bmi_group biophx\n",
       "1   0               1                     0           1        3         0     \n",
       "2   1               3                     0           1        2         0     \n",
       "3   1               4                     0           1        1         0     \n",
       "3.1 1               4                     0           1        1         0     \n",
       "4   2               3                     0           1        1         0     \n",
       "5   2               3                     0           1        1         1     \n",
       "    breast_cancer_history\n",
       "1   0                    \n",
       "2   0                    \n",
       "3   0                    \n",
       "3.1 0                    \n",
       "4   0                    \n",
       "5   9                    "
      ]
     },
     "metadata": {},
     "output_type": "display_data"
    }
   ],
   "source": [
    "cancer_data <- read.csv(\"./datos/BCSC_risk_factors_summarized.csv\")\n",
    "#head(cancer_data)\n",
    "cancer_data <- cancer_data[rep(row.names(cancer_data), cancer_data$count), 1:12]\n",
    "head(cancer_data)"
   ]
  },
  {
   "cell_type": "markdown",
   "metadata": {},
   "source": [
    "El número de filas tras replicar las filas indicadas por la columna *count* es de 6318638. Como este número es muy alto para la máquina virtual que tenemos vamos a realizar una muestreo aleatorio simple y nos quedaremos con 5000 filas. El resto se descartan.\n",
    "\n",
    "*Nota:*Para el muestreo usad la semilla 12345, de esta forma todos tendresmos exactamente los mismos resultados."
   ]
  },
  {
   "cell_type": "code",
   "execution_count": 2,
   "metadata": {},
   "outputs": [],
   "source": [
    "#Definimos una semilla común para todos:\n",
    "set.seed(12345)\n",
    "#Utiliza muestreo aleatorio simple para quedarnos con 5000 muestras:\n",
    "cancer_data=cancer_data[sample(length(cancer_data$biophx),5000),]"
   ]
  },
  {
   "cell_type": "code",
   "execution_count": null,
   "metadata": {},
   "outputs": [],
   "source": [
    "head(cancer_data)"
   ]
  },
  {
   "cell_type": "markdown",
   "metadata": {},
   "source": [
    "Formatear el dataframe:\n",
    "* Cambiamos los *Desconocido* por NA en las columnas \"race_eth\", \"first_degree_hx\", \"age_menarche\", \"age_first_birth\", \"BIRADS_breast_density\", \"current_hrt\", \"menopaus\", \"bmi_group\", \"biophx\", \"breast_cancer_history\"\n",
    "* Convertimos a factores las columnas que vamos a necesitar"
   ]
  },
  {
   "cell_type": "code",
   "execution_count": null,
   "metadata": {},
   "outputs": [],
   "source": [
    "for(i in 1:length(cancer_data$year)){\n",
    "    for(j in 3:length(cancer_data)){\n",
    "        if (cancer_data[i,j]==9){\n",
    "            cancer_data[i,j]=NA\n",
    "        }\n",
    "    }\n",
    "}\n",
    "cancer_data"
   ]
  },
  {
   "cell_type": "markdown",
   "metadata": {},
   "source": [
    "#### Edad y Antecedentes familiares"
   ]
  },
  {
   "cell_type": "markdown",
   "metadata": {},
   "source": [
    "Creamos una nueva columna con la edad estimada para un posterior análisis"
   ]
  },
  {
   "cell_type": "markdown",
   "metadata": {},
   "source": [
    "Representa en un diagrama de cajas cómo varía la **edad de aparición del cancer** en función de si ha habido **antecedentes familiares** o no.\n",
    "Ayuda:\n",
    "- Hay que crear una nueva columna con la edad estimada de cada rango."
   ]
  },
  {
   "cell_type": "code",
   "execution_count": null,
   "metadata": {},
   "outputs": [],
   "source": [
    "e_a=cancer_data\n",
    "for (i in length(cancer_data$year_group_5_years)){\n",
    "    if(cancer_data$year_group_5_years[i]==1){\n",
    "       e_a$year_group_5_years[i]=\"18-29\" \n",
    "    } else \n",
    "    if(cancer_data$year_group_5_years[i]==2){\n",
    "        e_a$year_group_5_years[i]=\"30-34\"\n",
    "    } else \n",
    "    if(cancer_data$year_group_5_years[i]==3){\n",
    "        e_a$year_group_5_years[i]=\"35-39\"\n",
    "    } else \n",
    "    if(cancer_data$year_group_5_years[i]==4){\n",
    "        e_a$year_group_5_years[i]=\"40-44\"\n",
    "    } else \n",
    "    if(cancer_data$year_group_5_years[i]==5){\n",
    "        e_a$year_group_5_years[i]=\"45-49\"\n",
    "    } else \n",
    "    if(cancer_data$year_group_5_years[i]==6){\n",
    "        e_a$year_group_5_years[i]=\"50-54\"\n",
    "    } else \n",
    "    if(cancer_data$year_group_5_years[i]==7){\n",
    "        e_a$year_group_5_years[i]=\"55-59\"\n",
    "    } else \n",
    "    if(cancer_data$year_group_5_years[i]==8){\n",
    "        e_a$year_group_5_years[i]=\"60-64\"\n",
    "    } else \n",
    "    if(cancer_data$year_group_5_years[i]==9){\n",
    "        e_a$year_group_5_years[i]=\"65-69\"\n",
    "    } else \n",
    "    if(cancer_data$year_group_5_years[i]==10){\n",
    "        e_a$year_group_5_years[i]=\"70-74\"\n",
    "    } else \n",
    "    if(cancer_data$year_group_5_years[i]==11){\n",
    "        e_a$year_group_5_years[i]=\"75-79\"\n",
    "    } else \n",
    "    if(cancer_data$year_group_5_years[i]==12){\n",
    "        e_a$year_group_5_years[i]=\"80-84\"\n",
    "    } else \n",
    "    if(cancer_data$year_group_5_years[i]==13){\n",
    "        e_a$year_group_5_years[i]=\">=85\"\n",
    "    }\n",
    "}\n",
    "#1 = Edad 18-29; 2 = Edad 30-34; 3 = Edad 35-39; 4 = Edad 40-44; 5 = Edad 45-49; 6 = Edad 50-54; 7 = Edad 55-59; \n",
    "#8 = Edad 60-64; 9 = Edad 65-69; 10 = Edad 70-74; 11 = Edad 75-79; 12 = Edad 80-84; 13 = Edad ≥85"
   ]
  },
  {
   "cell_type": "code",
   "execution_count": null,
   "metadata": {},
   "outputs": [],
   "source": [
    "library(ggplot2)\n",
    "ggplot(e_a,aes(x=first_degree_hx,y=year_group_5_years))+geom_boxplot()"
   ]
  },
  {
   "cell_type": "markdown",
   "metadata": {},
   "source": [
    "¿Existe una diferencia estadística significativa entre la edad de aparición del cancer y si hay antecedentes familiares? ¿Que test usarías para comprobarlo?"
   ]
  },
  {
   "cell_type": "code",
   "execution_count": null,
   "metadata": {},
   "outputs": [],
   "source": []
  },
  {
   "cell_type": "markdown",
   "metadata": {},
   "source": [
    "Dibuja la curva de densidad de probabilidad de cómo varía la edad de aparición del cancer en función de si ha habido antecedentes familiares o no."
   ]
  },
  {
   "cell_type": "code",
   "execution_count": null,
   "metadata": {},
   "outputs": [],
   "source": []
  },
  {
   "cell_type": "markdown",
   "metadata": {},
   "source": [
    "#### Edad y BIRADS"
   ]
  },
  {
   "cell_type": "markdown",
   "metadata": {},
   "source": [
    "Representa en un diagrama de cajas cómo varía la edad de aparición del cancer en función de la densidad del cancder (BIRADS)."
   ]
  },
  {
   "cell_type": "code",
   "execution_count": null,
   "metadata": {},
   "outputs": [],
   "source": [
    "ggplot(e_a,aes(x=BIRADS_breast_density,y=year_group_5_years))+geom_boxplot()"
   ]
  },
  {
   "cell_type": "markdown",
   "metadata": {},
   "source": [
    "¿Existe una evidencia estadística significativa para decir que la edad en la que se detecta el cancer depende de la densidad del cancer (BIRADS)?\n",
    "\n",
    "¿Que test habría que aplicar?"
   ]
  },
  {
   "cell_type": "code",
   "execution_count": null,
   "metadata": {},
   "outputs": [],
   "source": []
  },
  {
   "cell_type": "markdown",
   "metadata": {},
   "source": [
    "#### Tablas de contingencia: BIRADS"
   ]
  },
  {
   "cell_type": "markdown",
   "metadata": {},
   "source": [
    "¿Todos los  tipos de cancer (BIRADS) son igual de probables? ¿Con que test lo comprobarías?"
   ]
  },
  {
   "cell_type": "code",
   "execution_count": null,
   "metadata": {},
   "outputs": [],
   "source": []
  },
  {
   "cell_type": "markdown",
   "metadata": {},
   "source": [
    "¿Cual es el tipo de cancer (BIRADS) más común? ¿Con qué proporción?"
   ]
  },
  {
   "cell_type": "code",
   "execution_count": null,
   "metadata": {},
   "outputs": [],
   "source": []
  },
  {
   "cell_type": "markdown",
   "metadata": {},
   "source": [
    "¿Depende el tipo de cancer (BIRADS) de si ha habido o no antecedentes familiares?"
   ]
  },
  {
   "cell_type": "code",
   "execution_count": null,
   "metadata": {},
   "outputs": [],
   "source": []
  },
  {
   "cell_type": "markdown",
   "metadata": {},
   "source": [
    "¿Depende el tipo de cancer BIRADS del grupo étnico?"
   ]
  },
  {
   "cell_type": "code",
   "execution_count": null,
   "metadata": {},
   "outputs": [],
   "source": []
  },
  {
   "cell_type": "markdown",
   "metadata": {},
   "source": [
    "¿Cual es la probabilidad (con su margen de error del 95%) de que un *Native American* tenga un cancer de tipo *Almost entirely fat*?\n",
    "\n",
    "*Aviso*: Cuidado con los NA"
   ]
  },
  {
   "cell_type": "code",
   "execution_count": null,
   "metadata": {},
   "outputs": [],
   "source": []
  }
 ],
 "metadata": {
  "kernelspec": {
   "display_name": "R",
   "language": "R",
   "name": "ir"
  },
  "language_info": {
   "codemirror_mode": "r",
   "file_extension": ".r",
   "mimetype": "text/x-r-source",
   "name": "R",
   "pygments_lexer": "r",
   "version": "3.2.3"
  }
 },
 "nbformat": 4,
 "nbformat_minor": 1
}
